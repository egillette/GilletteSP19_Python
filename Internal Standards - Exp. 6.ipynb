{
 "cells": [
  {
   "cell_type": "markdown",
   "metadata": {},
   "source": [
    "# Internal Standards\n",
    "\n",
    "An internal standard calibration is useful when instrument drift is the most significant source of error in your method. The internal standard compound must be different and distinguishable from your analyte of interest. Given a known concentration of analyte and internal standard, you first must determine the \"response factor\", which determines the difference between the instrument response to each compound:\n",
    "\n",
    "$$ \\frac{I_{analyte}}{[analyte]} = F \\frac{I_{standard}}{[standard]} $$\n",
    "\n",
    "Once you have deftermined a value for F, then any any unknown sample you can add a known concentration of internal standard, record the instrument response to the unknown and the internal standard, and determine the concentration of unknown.\n",
    "\n"
   ]
  },
  {
   "cell_type": "code",
   "execution_count": 1,
   "metadata": {},
   "outputs": [],
   "source": [
    "# First, solve for F\n",
    "\n",
    "\n",
    "# Apply F to solve for an unknown\n"
   ]
  },
  {
   "cell_type": "markdown",
   "metadata": {},
   "source": [
    "## Calculating error for an internal standard\n",
    "\n",
    "This is just a series of multiplication and divison problems! Go back to the error propogation in titrations notebook and you will find all of the equations you need to propogate error through an internal standard.\n",
    "\n",
    "In our experiment, please assume that the stock solution concentrations are precise to +/- 1 ppm. All other errors can be determined from glassware, or from standard deviations of replicate trials!"
   ]
  },
  {
   "cell_type": "code",
   "execution_count": null,
   "metadata": {},
   "outputs": [],
   "source": [
    "# error calculations"
   ]
  }
 ],
 "metadata": {
  "kernelspec": {
   "display_name": "Python 3",
   "language": "python",
   "name": "python3"
  },
  "language_info": {
   "codemirror_mode": {
    "name": "ipython",
    "version": 3
   },
   "file_extension": ".py",
   "mimetype": "text/x-python",
   "name": "python",
   "nbconvert_exporter": "python",
   "pygments_lexer": "ipython3",
   "version": "3.7.0"
  }
 },
 "nbformat": 4,
 "nbformat_minor": 2
}

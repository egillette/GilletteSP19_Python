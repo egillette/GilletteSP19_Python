{
 "cells": [
  {
   "attachments": {
    "data%20for%20dry%20lab.png": {
     "image/png": "[encoded data removed]"
    }
   },
   "cell_type": "markdown",
   "metadata": {},
   "source": [
    "# Working with linear regressions in Python\n",
    "\n",
    "In experiment 1, you say a short version of this, where we plotted some data and got the equation of a line! However, we'd like to be able to do some more sophisticated data analysis when working with linear regressions. Today we're going to work with some sample data and take a look at how to think seriously about error in a real experiment!\n",
    "\n",
    "We have sample data collected for the following known concentrations:\n",
    "0.00 mM, 9.36 mM, 18.72 mM, 28.08 mM, 37.44 mM, 44.54 mM\n",
    "\n",
    "![data%20for%20dry%20lab.png](attachment:data%20for%20dry%20lab.png)\n",
    "  \n",
    "We also measured an unknown solution which produced the following absorbance values:\n",
    "\n",
    "* 0.273\n",
    "* 0.270\n",
    "* 0.269\n",
    "        \n",
    "      \n",
    "Think about what you need to do to turn this data into a useful calibration curve to determine the concentration of the unknown. In words, write out a plan for everything you need to do here (note, how are you going to handle the fact that we have multiple measurements for each standard solution?)\n",
    "\n",
    "\n",
    "\n",
    "\n",
    "\n",
    "\n",
    "\n",
    "\n",
    "\n",
    "After you have brainstormed a plan, move on to the code:"
   ]
  },
  {
   "cell_type": "code",
   "execution_count": 2,
   "metadata": {},
   "outputs": [
    {
     "name": "stdout",
     "output_type": "stream",
     "text": [
      "[[0.    0.092 0.182 0.243 0.325 0.41 ]\n",
      " [0.    0.081 0.177 0.249 0.37  0.383]\n",
      " [0.    0.088 0.169 0.233 0.31  0.396]]\n"
     ]
    }
   ],
   "source": [
    "# we will often import a number of extra packages into python. These are just a the ones we need today:\n",
    "import math\n",
    "import matplotlib.pyplot as plt\n",
    "import numpy as np\n",
    "import scipy.stats as stats\n",
    "\n",
    "\n",
    "# The first thing you're likely to need is to turn all of those replicate values into averages, and compile those averages into a single array\n",
    "data = np.genfromtxt('drylabdata.csv', dtype=float, delimiter=',', names=None) \n",
    "\n",
    "print(data)\n",
    "\n",
    "# Note the format here; each row is a trial, each column is a different data set. "
   ]
  },
  {
   "cell_type": "code",
   "execution_count": 5,
   "metadata": {},
   "outputs": [
    {
     "name": "stdout",
     "output_type": "stream",
     "text": [
      "[0. 0. 0.]\n",
      "0.0\n",
      "[0.    0.092 0.182 0.243 0.325 0.41 ]\n"
     ]
    },
    {
     "ename": "NameError",
     "evalue": "name 'std_1' is not defined",
     "output_type": "error",
     "traceback": [
      "\u001b[1;31m---------------------------------------------------------------------------\u001b[0m",
      "\u001b[1;31mNameError\u001b[0m                                 Traceback (most recent call last)",
      "\u001b[1;32m<ipython-input-5-454e3d9202a5>\u001b[0m in \u001b[0;36m<module>\u001b[1;34m()\u001b[0m\n\u001b[0;32m     27\u001b[0m \u001b[1;31m# print them out if you want to check your work!\u001b[0m\u001b[1;33m\u001b[0m\u001b[1;33m\u001b[0m\u001b[0m\n\u001b[0;32m     28\u001b[0m \u001b[1;33m\u001b[0m\u001b[0m\n\u001b[1;32m---> 29\u001b[1;33m \u001b[0mprint\u001b[0m \u001b[1;33m(\u001b[0m\u001b[1;34m\"the three trials collected for the 9.36 mM standard are\"\u001b[0m \u001b[1;33m+\u001b[0m \u001b[0mstr\u001b[0m\u001b[1;33m(\u001b[0m\u001b[0mstd_1\u001b[0m\u001b[1;33m)\u001b[0m\u001b[1;33m)\u001b[0m\u001b[1;33m\u001b[0m\u001b[0m\n\u001b[0m",
      "\u001b[1;31mNameError\u001b[0m: name 'std_1' is not defined"
     ]
    }
   ],
   "source": [
    "# Think about what you learned about how arrays work in python. We can use column and row numbers to call the data we need\n",
    "# But remember, Python starts counting at zero!\n",
    "\n",
    "# here i'm calling just the first column of numbers\n",
    "blank = data[:,0]\n",
    "\n",
    "# note that we can also do math on a subset of the array this way:\n",
    "blank_mean = np.mean(data[:,0])\n",
    "\n",
    "print (blank)\n",
    "print (blank_mean)\n",
    "\n",
    "\n",
    "# here I'll call just the first row of numbers\n",
    "\n",
    "trial_1 = data[0,:]\n",
    "\n",
    "print(trial_1)\n",
    "\n",
    "\n",
    "# add your own code to distribute the data into individual arrays, corresponding the the various standards\n",
    "\n",
    "#std_1 =\n",
    "#std_2 = \n",
    "#std_3 = \n",
    "#std_4 = \n",
    "#std_5 = \n",
    "\n",
    "# print them out if you want to check your work!\n",
    "\n",
    "print (\"the three trials collected for the 9.36 mM standard are\" + str(std_1))"
   ]
  },
  {
   "cell_type": "markdown",
   "metadata": {},
   "source": [
    "## Plotting a standard curve when replicate data was collected\n",
    "\n",
    "Hopefully you realized that you probably need to take the average of the three trials here before you combine all of your data!\n",
    "\n",
    "This is something you've done before, but to avoid having to type everything out six times to cover all of our trials, we're going to automate this process with a while loop!\n",
    "\n",
    "Note that you've seen while loops before, but it may not have been clear how they worked. Note we need a counter, to keep track of how many times we've repeated the loop, and we're going to make an empty array to put our average absorbance values into.\n",
    "\n",
    "We might also want to have some idea about the precision of those values. Run this code once without any changes and think about how it's working! Then, add new code inside the while loop to produce a second array which has the standard deviations in it for each set of standards"
   ]
  },
  {
   "cell_type": "code",
   "execution_count": 7,
   "metadata": {
    "scrolled": false
   },
   "outputs": [
    {
     "name": "stdout",
     "output_type": "stream",
     "text": [
      "[0.         0.087      0.176      0.24166667 0.335      0.39633333]\n",
      "[0.         0.00454606 0.00535413 0.00659966 0.0254951  0.01102522]\n"
     ]
    }
   ],
   "source": [
    "count = 0\n",
    "absorbance = []\n",
    "std =[]\n",
    "\n",
    "while (count < 6):\n",
    "    # here we calculate the average of each column. Note, our counter variable gets to do double duty here!\n",
    "    \n",
    "    average = np.mean(data[:,count])\n",
    "    absorbance.append (average)\n",
    "    \n",
    "    std_temp = np.std(data[:,count])\n",
    "    std.append (std_temp)\n",
    "    \n",
    "    count = count + 1\n",
    "    \n",
    "    \n",
    "# here i'm just converted standard deviation into a numpy array to make our lives easier later\n",
    "# the append command as we use it here only works on regular lists, not numpy arrays, which is something to be aware of.\n",
    "\n",
    "# but numpy arrays are way easier to do simple math with; say to 'correct' all of our absorbance values by subtracting the blank!\n",
    "absorbance = np.array(absorbance) -  blank_mean\n",
    "std = np.array(std)  \n",
    "\n",
    "\n",
    "# take a look at your reported values\n",
    "print(absorbance)\n",
    "print (std)"
   ]
  },
  {
   "cell_type": "code",
   "execution_count": 10,
   "metadata": {},
   "outputs": [
    {
     "data": {
      "text/plain": [
       "Text(0,0.5,'y axis labels (are there units here too?)')"
      ]
     },
     "execution_count": 10,
     "metadata": {},
     "output_type": "execute_result"
    },
    {
     "data": {
      "image/png": "[encoded data removed]",
      "text/plain": [
       "<Figure size 432x288 with 1 Axes>"
      ]
     },
     "metadata": {
      "needs_background": "light"
     },
     "output_type": "display_data"
    }
   ],
   "source": [
    "# We also need the concentration values which correspond to our data, to use as our x-axis values.\n",
    "# We can record them directly from the data\n",
    "concentration = np.array([0, 9.36, 18.72, 28.08, 37.44, 44.54])\n",
    "\n",
    "\n",
    "# put together a graph using the plot command\n",
    "# in 'plot', first comes the x axis, then the y, then 'ro' plots our points as red circles. \n",
    "\n",
    "\n",
    "\n",
    "plt.plot(concentration, absorbance, 'ro')\n",
    "\n",
    "# Add labels on the x and y axis, always including units.\n",
    "plt.xlabel(\"x axis label (units)\")\n",
    "plt.ylabel(\"y axis labels (are there units here too?)\")\n",
    "\n"
   ]
  },
  {
   "cell_type": "markdown",
   "metadata": {},
   "source": [
    "Now you should see a figure above with red dots making the data points, along with some very unhelful axis labels. \n",
    "\n",
    "1. Go back into the code and put your own data into the concentration and density arrays, including the correctnumber of sig. figs. for both density and concentration.\n",
    "\n",
    "2. Update the axis labels to something that is actually properly descriptive for your data\n",
    "\n",
    "3. In the plt.plot command, change 'ro' to 'r.'.\n",
    "\n",
    "4. Hit RUN again to rerun this code now that you have updated it.\n",
    "\n",
    "You should now have a plot of your data, with useful axis labels letting you know that density is on the y axis, and concentration is on the x axis. Hopefully, your data looks fairly linear! \n",
    "\n",
    "The next thing you need to do is to export that plot so you can put it in your lab notebook! You have a few choices; you can take a screenshot and paste the image into Lab Archives, or you use Python's built in export too. Copy the following line of code into the block above, and re-run the block\n",
    "\n",
    "fig.savefig(\"myfirstpythonfigure.png\")\n",
    "\n",
    "\n",
    "A figure called \"myfirstpythonfigure\" should now be in the same folder you saved this Jupyter notebook in! You can upload it to your lab notebook as an attachment, as usual. Be careful to change the file name anytime you use this command, or your old file will be overwritten by the new file!"
   ]
  },
  {
   "cell_type": "markdown",
   "metadata": {},
   "source": [
    "## Adding error bars to our plot\n",
    "\n",
    "We might consider using the standard deviation as a way to communicate some uncertainty in each of these values. We can do that by adding error bars to the plot!\n",
    "\n",
    "Standard deviation is a very blunt instrument for expressing error in this case, but it is better than nothing. Let's try that first."
   ]
  },
  {
   "cell_type": "code",
   "execution_count": 63,
   "metadata": {},
   "outputs": [
    {
     "data": {
      "text/plain": [
       "Text(0,0.5,'average absorbance')"
      ]
     },
     "execution_count": 63,
     "metadata": {},
     "output_type": "execute_result"
    },
    {
     "data": {
      "image/png": "[encoded data removed]",
      "text/plain": [
       "<Figure size 432x288 with 1 Axes>"
      ]
     },
     "metadata": {
      "needs_background": "light"
     },
     "output_type": "display_data"
    }
   ],
   "source": [
    "plt.errorbar(concentration, absorbance, yerr = std, xerr = None, fmt = 'r.')\n",
    "plt.xlabel(\"concentration (mM)\")\n",
    "plt.ylabel(\"average absorbance\")\n",
    "\n",
    "fig.savefig(\"std_errorbars.png\")"
   ]
  },
  {
   "cell_type": "markdown",
   "metadata": {},
   "source": [
    " It is best to use the confidence interval for error bars instead! Remember, we just need to multiple our standard deviation by a Student's t constant, and divide by the square root of n. Here, let's show error bars at the 95 % confidence interval"
   ]
  },
  {
   "cell_type": "code",
   "execution_count": 1,
   "metadata": {},
   "outputs": [
    {
     "ename": "SyntaxError",
     "evalue": "invalid syntax (<ipython-input-1-f84f0dd7a9c1>, line 3)",
     "output_type": "error",
     "traceback": [
      "\u001b[1;36m  File \u001b[1;32m\"<ipython-input-1-f84f0dd7a9c1>\"\u001b[1;36m, line \u001b[1;32m3\u001b[0m\n\u001b[1;33m    c =\u001b[0m\n\u001b[1;37m       ^\u001b[0m\n\u001b[1;31mSyntaxError\u001b[0m\u001b[1;31m:\u001b[0m invalid syntax\n"
     ]
    }
   ],
   "source": [
    "\n",
    "# use c to set the confidence you want (90 % is 0.90, for example)\n",
    "c =\n",
    "# have you seen any command that might give you n without just inputting a number? To make your code more general for different data sets?\n",
    "n =\n",
    "\n",
    "t = stats.t.ppf(c, n-1)\n",
    "CI_95 = std*(t/math.sqrt(n))\n",
    "\n",
    "plt.errorbar(concentration, absorbance, yerr = CI_95, xerr = None, fmt = 'r.')\n",
    "plt.xlabel(\"concentration (mM)\")\n",
    "plt.ylabel(\"average absorbance\")\n",
    "\n",
    "#fig.savefig(\"CI95_errorbars.png\")"
   ]
  },
  {
   "cell_type": "markdown",
   "metadata": {},
   "source": [
    "## External Calibration Curve\n",
    "This type of plot is called an <b> external calibration curve </b> in analytical chemistry, because we can take some other (external) data point, for which we have, say, a density measurement, and use this plot to determine that unknown sample's concentration. You have seen this before in general chemistry (for example, you have plotted absorbance vs. concentration Ni in 152L)\n",
    "\n",
    "\n",
    "To get the most out of an external calibration curve, it's helpful to have the equation of the line, in <i> y = mx + b </i> format. That allows you to quickly and easily do the math to determine any <i> x </i> (here, concentration in mole/liter) for any measured <i> y </i> (here, density). You may know how to do this in Excel, or on your graphing calculator. Let's take a look at how it works in Python!"
   ]
  },
  {
   "cell_type": "code",
   "execution_count": 11,
   "metadata": {},
   "outputs": [
    {
     "name": "stdout",
     "output_type": "stream",
     "text": [
      "the equation of the line is y = 0.008824245297230318x + 0.002836459106767386 and its R-squared value is 0.9992935841235739\n"
     ]
    }
   ],
   "source": [
    "# the linear regression function in the scipy stats module returns 5 values: slope, intercept, R-squared and then two uncertainty values p and s_m\n",
    "# we'll ignore the last two for the moment, since all we really need right now is the equation of the line\n",
    "m, b, R2, p, s_m = stats.linregress(concentration, absorbance)\n",
    "\n",
    "print ('the equation of the line is y = ' + str(m) + 'x + ' + str(b) + ' and its R-squared value is '+ str(R2))\n",
    "\n",
    "\n"
   ]
  },
  {
   "cell_type": "markdown",
   "metadata": {},
   "source": [
    "## Adding the 'best fit line' to your graph\n",
    "\n",
    "It's always a nice reality check to see the line plotted along with your data. In this case, we can think about this line as a model to help us make a prediction about our data. So we can plug in a range of concentration values, and we so we can plot the y values that our y = mx + b model predicts, and see how well it matches the real data."
   ]
  },
  {
   "cell_type": "code",
   "execution_count": 102,
   "metadata": {},
   "outputs": [
    {
     "data": {
      "text/plain": [
       "Text(0,0.5,'average absorbance')"
      ]
     },
     "execution_count": 102,
     "metadata": {},
     "output_type": "execute_result"
    },
    {
     "data": {
      "image/png": "[encoded data removed]",
      "text/plain": [
       "<Figure size 432x288 with 1 Axes>"
      ]
     },
     "metadata": {
      "needs_background": "light"
     },
     "output_type": "display_data"
    }
   ],
   "source": [
    "# Use our predicted model\n",
    "predict_y = (concentration*m)-b\n",
    "# Plot the predicted data (note if we don't ask for a specific marker style, we'll just get a line)\n",
    "plt.plot(concentration,predict_y)\n",
    "\n",
    "#add the real data to the plot, just like we did before:\n",
    "plt.errorbar(concentration, absorbance, yerr = CI_95, xerr = None, fmt = 'r.')\n",
    "plt.xlabel(\"concentration (mM)\")\n",
    "plt.ylabel(\"average absorbance\")\n",
    "\n"
   ]
  },
  {
   "cell_type": "markdown",
   "metadata": {},
   "source": [
    "## Solve for your unknown\n",
    "\n",
    "Using the equation above, calculate your unknown concentration by hand first. Then complete the code below to calculate the unknown concentration. Make sure your hand-written calculation and your python code are producing the same result!"
   ]
  },
  {
   "cell_type": "code",
   "execution_count": 103,
   "metadata": {},
   "outputs": [
    {
     "name": "stdout",
     "output_type": "stream",
     "text": [
      "the concentration of the unknown is 30.351627650691402 mM\n"
     ]
    }
   ],
   "source": [
    "#Add the absorbance of your unknown here:\n",
    "\n",
    "unknown = np.array([0.273,0.270,0.269])\n",
    "\n",
    "unknown_av = np.mean(unknown)\n",
    "\n",
    "unknown_std = np.std(unknown)\n",
    "\n",
    "# now using m, b and unknown_density, solve for unknown_concentration\n",
    "unknown_concentration = (unknown_av-b)/m\n",
    "\n",
    "print ('the concentration of the unknown is ' + str(unknown_concentration) + ' mM')\n",
    "\n",
    "#do your values match? If not, check your math!"
   ]
  },
  {
   "cell_type": "markdown",
   "metadata": {},
   "source": [
    "## Uncertainty in a linear regression\n",
    "\n",
    "We have an $R^{2}$ value which gives us an idea how well our predicted line is able to fit our real data, but it's hard to turn that value into a real uncertainty value on our unknown calcultion. Ideally, we'd like an uncertainty in the same units are our final answer here (so in this case, in mM). In order to do that, we need to think about what error actually means in a linear regression.\n",
    "\n",
    "You read a lot of detail about how the matrix math works to produce that linear regression, and along with it, error values in the slope and intercept values produced. For whatever reason, most of the python linear regression packages just return the error in the slope. This is useful if you're main goal is to use a linear regression to determine a relationship between your variables, but in our case, we really need the error in the y values being predicted. That is the value we can transform into an x value error!\n",
    "\n",
    "Think about what error on the y-value means. You're making a prediction, so our questions is how close is that prediction to the real value?\n",
    "\n",
    "First, we'll think about the deviation of each measured y value ($y_{i}$) from the predicted y value (where $ y= mx+b $):\n",
    "\n",
    "$$ d_{i} = y_{i} - (m x_{i} + b) $$\n",
    "\n",
    "Then we want to compile those deviations for every point we have available, to turn them into an overall assessment of the standard deviation of the y values:\n",
    "\n",
    "$$ s_{y}={\\sqrt {\\frac {\\sum (d_{i})^{2}}{n-2}}} $$"
   ]
  },
  {
   "cell_type": "code",
   "execution_count": 12,
   "metadata": {},
   "outputs": [
    {
     "name": "stdout",
     "output_type": "stream",
     "text": [
      "the y error predicted by this linear regression model is 0.00628 arbirtrary absorbance units\n"
     ]
    }
   ],
   "source": [
    "# Manually calculate error in y \n",
    "# standard error in most python packages is the error in the slope, rather than error in the y-predicitions of the model\n",
    "\n",
    "count = 0\n",
    "sum_square = 0\n",
    "\n",
    "n = len(absorbance)\n",
    "\n",
    "## so here, for every single point in our array, we're plugging in concentration, and comparing it to the actual measured absorbance\n",
    "# Again, note that our count variable does double duty; keeping track of the while loop, and calling the right array value! \n",
    "\n",
    "while count < n:\n",
    "    sum_square = sum_square + ((absorbance[count]-(m*concentration[count])-b)**2)\n",
    "    count = count + 1\n",
    "    \n",
    "y_err = math.sqrt(sum_square/(n-2))\n",
    "print (\"the y error predicted by this linear regression model is \" + str(round(y_err,5)) + \" arbirtrary absorbance units\")\n",
    "\n"
   ]
  },
  {
   "cell_type": "markdown",
   "metadata": {},
   "source": [
    "### Standard error in the intercept\n",
    "\n",
    "Since the linear regression command in the stats module gives us the uncertainty in the slope, and we just calculated the uncertainty in the y values, we can take a shortcut to the uncertainty in the intercept, which avoids having to actually do any matrix math here. Note that\n",
    "\n",
    "$$ u_{m}^{2} = \\frac{s_{y}^{2}n}{D} $$\n",
    "\n",
    "Can be rewritten as $$ D = \\frac{s_{y}^{2}n}{u_{m}^{2}} $$\n",
    "\n",
    "So that we can write $ u_{b}^{2} $ in terms of values we have already calculated!\n",
    "$$ u_{b}^{2} = \\frac{s_{y}^{2}\\sum{x_{i}^{2}}}{D} = \\frac{\\sum{x_{i}^{2}}u_{m}^{2}}{n} $$\n",
    "\n",
    "Once you have all of these uncertainty values, be sure to write the equation of the line, with full uncertainty, in your lab notebook when you report your final results!\n"
   ]
  },
  {
   "cell_type": "code",
   "execution_count": 17,
   "metadata": {},
   "outputs": [
    {
     "name": "stdout",
     "output_type": "stream",
     "text": [
      "error in the slope is 0.00016592926491514943\n",
      "error in the intercept is 0.004600411736733409\n"
     ]
    }
   ],
   "source": [
    "s_b = math.sqrt((sum(concentration**2)*(s_m**2))/(len(concentration)))\n",
    "\n",
    "print(\"error in the slope is \" + str(s_m))\n",
    "print(\"error in the intercept is \" + str(s_b))\n",
    "\n"
   ]
  },
  {
   "cell_type": "markdown",
   "metadata": {},
   "source": [
    "### Convert a y value into an uncertainty on our calculated x value\n",
    "\n",
    "Now we have all of the information we need to propogate error through the calibration curve. We can use equation 4-27 in your textbook:\n",
    "\n",
    "$$ s_{x}= \\frac{s_{y}}{\\mid{m}\\mid}{\\sqrt {\\frac {1}{k} + \\frac {1}{n} + \\frac {(y-\\bar{y})^{2}}{m^{2}\\sum (x-\\bar{x})^{2}}}} $$\n",
    "\n",
    "You now have all of these variables:  m is the slope, k is the number of replicate measurements in your unknown, n is the number of points in your calibration curve, and x is all of your calibration curve x values, either individually ($ x_{i} $) or the average of those values $ (\\bar{x} ) $ \n",
    "\n",
    "$\\bar{y}$ is the average of all of the y values in your calibration curve, and y is the unknown you measured. Note that this means that the closer your measured unknown is to the center of your calibration curve, the smaller that value will be!\n",
    "\n",
    "Now we have to set up some math to make this happen. I'd strongly suggest breaking it down into components!"
   ]
  },
  {
   "cell_type": "code",
   "execution_count": 2,
   "metadata": {},
   "outputs": [
    {
     "ename": "NameError",
     "evalue": "name 'y_err' is not defined",
     "output_type": "error",
     "traceback": [
      "\u001b[1;31m---------------------------------------------------------------------------\u001b[0m",
      "\u001b[1;31mNameError\u001b[0m                                 Traceback (most recent call last)",
      "\u001b[1;32m<ipython-input-2-f59cead59a94>\u001b[0m in \u001b[0;36m<module>\u001b[1;34m()\u001b[0m\n\u001b[0;32m      1\u001b[0m \u001b[1;31m# first, s_y/m\u001b[0m\u001b[1;33m\u001b[0m\u001b[1;33m\u001b[0m\u001b[0m\n\u001b[0;32m      2\u001b[0m \u001b[1;33m\u001b[0m\u001b[0m\n\u001b[1;32m----> 3\u001b[1;33m \u001b[0mvar1\u001b[0m \u001b[1;33m=\u001b[0m \u001b[0my_err\u001b[0m\u001b[1;33m/\u001b[0m\u001b[0mm\u001b[0m\u001b[1;33m\u001b[0m\u001b[0m\n\u001b[0m\u001b[0;32m      4\u001b[0m \u001b[1;33m\u001b[0m\u001b[0m\n\u001b[0;32m      5\u001b[0m \u001b[1;31m# then, lets get all of the pieces inside the square root\u001b[0m\u001b[1;33m\u001b[0m\u001b[1;33m\u001b[0m\u001b[0m\n",
      "\u001b[1;31mNameError\u001b[0m: name 'y_err' is not defined"
     ]
    }
   ],
   "source": [
    "# first, s_y/m\n",
    "\n",
    "var1 = y_err/m\n",
    "\n",
    "# then, lets get all of the pieces inside the square root\n",
    "\n",
    "# here we're using the length command to just check how long our unknown array was, and how long our calibration curve x value array was\n",
    "inv_k = 1/len(unknown)\n",
    "inv_n = 1/len(concentration)\n",
    "\n",
    "# now let's get the two averages\n",
    "y_bar = np.mean(absorbance)\n",
    "x_bar = np.mean(concentration)\n",
    "\n",
    "# We'll need a loop to handle the sum\n",
    "# i will be our counter variable here\n",
    "i = 0\n",
    "# ss is where we'll save the sum of squares\n",
    "\n",
    "ss = 0\n",
    "\n",
    "# you'll need a while loop to compute the sum, like you've seen before\n",
    "# Can you complete the while loop? \n",
    "while i < #complete the decision statement here:\n",
    "    ss = # complete the expression. Think about how you will call individual x values\n",
    "    i = i+1\n",
    "\n",
    "\n",
    "# now calculate the whole last component\n",
    "\n",
    "var4 = ((unknown_av-y_bar)**2)/((m**2)*ss)\n",
    "\n",
    "\n",
    "\n",
    "s_x =  var1*math.sqrt(inv_k+inv_n+var4)\n",
    "\n",
    "# always report uncertainy values with their accompanying measured values\n",
    "print ('the concentration of the unknown is ' + str(unknown_concentration) + ' mM +/- ' + str(s_x) + 'mM')\n",
    "\n",
    "#report a relative error instead of absolute\n",
    "\n",
    "s_x_rel = (s_x/unknown_concentration) * 100\n",
    "\n",
    "print ('the concentration of the unknown is ' + str(unknown_concentration) + ' mM +/- ' + str(s_x_rel) + '%')"
   ]
  },
  {
   "cell_type": "markdown",
   "metadata": {},
   "source": [
    "## Submission Instructions\n",
    "In your lab notebook, show each of the graphs you made in this code, and explain the difference in each one. Then, report your equation of the line, and your calculated unknown, with the correct uncertainty and the correct # of significant digits. Explain the difference between s_y and s_x as error values. Save this notebook with your name in the title and attach it to the lab archives page! "
   ]
  },
  {
   "cell_type": "code",
   "execution_count": null,
   "metadata": {},
   "outputs": [],
   "source": []
  }
 ],
 "metadata": {
  "kernelspec": {
   "display_name": "Python 3",
   "language": "python",
   "name": "python3"
  },
  "language_info": {
   "codemirror_mode": {
    "name": "ipython",
    "version": 3
   },
   "file_extension": ".py",
   "mimetype": "text/x-python",
   "name": "python",
   "nbconvert_exporter": "python",
   "pygments_lexer": "ipython3",
   "version": "3.7.0"
  }
 },
 "nbformat": 4,
 "nbformat_minor": 2
}

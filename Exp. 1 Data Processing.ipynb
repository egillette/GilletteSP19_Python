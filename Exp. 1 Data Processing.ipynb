{
 "cells": [
  {
   "cell_type": "markdown",
   "metadata": {},
   "source": [
    "# Experiment 1 Data Processing\n",
    "\n",
    "Today we're going to use Python to calculate some basic descriptive statisics, graph an external calibration curve and solve for your unknown NaCl concentration.\n",
    "\n",
    "Right now, all of this code is going to look like greek! Read it carefully, and try to follow the logic, but don't get too bogged down in the details. By the end of the semester, you will clearly understand everything you are seeing here! For now, let's just take a look at what Python can do!\n",
    "\n",
    "## Average, Standard Deviation and Confidence Interval:"
   ]
  },
  {
   "cell_type": "code",
   "execution_count": 1,
   "metadata": {},
   "outputs": [
    {
     "name": "stdout",
     "output_type": "stream",
     "text": [
      "the average density is 1.4 +/- 0.5477225575051661 g/mL3\n"
     ]
    }
   ],
   "source": [
    "# First, pool the unknown density data from your bench into one data array we'll call \"NaCl_unk\":\n",
    "NaCl_unk=[1,2,1,2,1]\n",
    "\n",
    "#find the average and the standard deviation for water_data (feel free to copy and paste from code blocks above\n",
    "#but be careful to update anything you might need to change!) \n",
    "import scipy.stats as stats\n",
    "average_NaCl = stats.tmean(NaCl_unk)\n",
    "s_NaCl = stats.tstd(NaCl_unk)\n",
    "\n",
    "print (\"the average density is \" + str(average_NaCl) + \" +/- \" + str(s_NaCl) + \" g/mL3\")"
   ]
  },
  {
   "cell_type": "markdown",
   "metadata": {},
   "source": [
    "<b> Whoa, thats a lot of digits! </b> That can't possibly be the right number of significant digits, right? Remember that the computer only knows how to do what you tell it to do! So if you don't tell it to round to a certain number of digits, it will just give you everything it has stored. So lets figure out how to round those numbers to something a little more reasonable.\n",
    "\n",
    "### The New Rules For Sig. Figs:\n",
    "\n",
    "1. Round your measured value to the first significant digit of the uncertainty attached to it (standard deviation, confidence interval, tolerance, etc.)\n",
    "2. Uncertainty values have <b> one </b> sig. fig, unless they start with a 1, in which case you may keep one additional digit.\n",
    "\n",
    "So what place should we round your average density off to?\n",
    "\n"
   ]
  },
  {
   "cell_type": "code",
   "execution_count": 9,
   "metadata": {},
   "outputs": [
    {
     "name": "stdout",
     "output_type": "stream",
     "text": [
      "the average density is 1.4 +/- 0.547722557505166g/mL3\n"
     ]
    }
   ],
   "source": [
    "#Rounding numbers\n",
    "# try out different values of i until you get an output that looks right!\n",
    "i = 15\n",
    "s_NaCl_out = round(s_NaCl,i)\n",
    "average_NaCl_out = round(average_NaCl,i)\n",
    "\n",
    "print (\"the average density is \" + str(average_NaCl_out) + \" +/- \" + str(s_NaCl_out) + \" g/mL3\")"
   ]
  },
  {
   "cell_type": "markdown",
   "metadata": {},
   "source": [
    "Be sure to report the correct average and standard deviation to the correct number of sig figs in your lab notebook!"
   ]
  },
  {
   "cell_type": "markdown",
   "metadata": {},
   "source": [
    "### How to calculate a confidence interval\n",
    "\n",
    "The equation for confidence interval is  $ CI= {\\frac {ts}{\\sqrt {n}}} $ We already know how to get n (from the length of the array!) and you already calculated s! So now we just need t. Luckily, Python has those t-tables from your text book, we just have to tell it which one we need! See the code below:"
   ]
  },
  {
   "cell_type": "code",
   "execution_count": 11,
   "metadata": {},
   "outputs": [
    {
     "name": "stdout",
     "output_type": "stream",
     "text": [
      "the average density is 1.4 +/- 0.5221936824068574g/mL3\n"
     ]
    }
   ],
   "source": [
    "import math\n",
    "\n",
    "#the first input is confidence %, the second is degrees of freedom (n-1)\n",
    "t = stats.t.ppf(0.95, len(NaCl_unk)-1)\n",
    "\n",
    "CI_NaCl = s_NaCl*t/math.sqrt(len(NaCl_unk))\n",
    "\n",
    "\n",
    "print (\"the average density is \" + str(average_NaCl) + \" +/- \" + str(CI_NaCl) + \" g/mL3\")"
   ]
  },
  {
   "cell_type": "markdown",
   "metadata": {},
   "source": [
    "This code was written for a 95% confidence interval. Try it out for 90 % and 50 % too! Record all three values in your lab notebook, and be sure to explain the trend!"
   ]
  },
  {
   "cell_type": "markdown",
   "metadata": {},
   "source": [
    "##  The Grubbs test or how to discard outliers\n",
    "Now you have the average and the standard deviation of your data. Do you think there might be any outliers? Any values which seem really far away from your mean, and which you think might be the result of a systemattic error (the empty flask was still wet) or a mistake, rather than just random variation?\n",
    "\n",
    "We can't just go throwing data points out  because we think they look funky. But we can try a statistic test to see how likely it is that the data point we're suspicious about came from our data set. This test is a called a <b> Grubb's test </b>\n",
    "\n",
    "First, we must calculate a G value for our data, using our average ($ {\\bar  {x}} $ ), our standard deviation (s) and our most likely ourlier ( $ x_{i} $ ). We will plug those values into the following equation: $ G={\\frac {\\left\\vert x_{i}-{\\bar  {x}}\\right\\vert }{s}} $\n",
    "\n",
    "We then must compare our G value to a 'G critical' value, which we must look up in a table. Our null hypothesis is that our calculated G value will be less than the 'G critical' value, and that our value is NOT an outlier. Only if our calculated G value is greater than a G critical value, can we discard that value as an outlier.\n",
    "\n",
    "<b> Before you continue, answer the following questions </b>\n",
    "1. Look at your water density data and pick a likely outlier. Explain why you think it is possibly an outlier.\n",
    "\n",
    "\n",
    "2. Calculate G for your suspected outlier. \n",
    "\n",
    "\n",
    "3. Look up G critical, and compare it to your calculated G. Is this value an outlier, or not?"
   ]
  },
  {
   "cell_type": "markdown",
   "metadata": {},
   "source": [
    "### Programming the Grubbs test with Python\n",
    "\n",
    "We can write programs which make decisions for us, if we can correctly communicate the criteria of the decision. This turns out to be great for statical tests like the Grubbs test. But, to do this, we typically have to structure the descision in the form of an \"if-then statement\". For example, \"if G calculated is greater than G critical, the data point is an outlier, and can be discarded\""
   ]
  },
  {
   "cell_type": "code",
   "execution_count": 15,
   "metadata": {},
   "outputs": [
    {
     "name": "stdout",
     "output_type": "stream",
     "text": [
      "16 is an outlier and should be removed from the data!\n"
     ]
    }
   ],
   "source": [
    "# Python doesn't happen to have an easy look-up for the Grubb's critical values, so just enter the one you looked up as G_crit:\n",
    "G_crit = \n",
    "\n",
    "# enter your suspect value here\n",
    "suspect = \n",
    "\n",
    "G_calc = abs(suspect - average_NaCl)/s_NaCl\n",
    "\n",
    "if G_calc < G_crit:\n",
    "    print (str(suspect) + \" is not an outlier!\")\n",
    "if G_calc > G_crit:\n",
    "    print (str(suspect) + \" is an outlier and should be removed from the data!\")\n"
   ]
  },
  {
   "cell_type": "markdown",
   "metadata": {},
   "source": [
    "Again, be sure to include this result in your ELN, with an explanation of what you've done here! If you need to remove an outlier, do so now, and be sure to recalculate your average, standard deviation and confidence interval without it!\n",
    "\n",
    "\n",
    "# Determining the unknown concentration\n",
    "Now we've done some desciriptive statistics on the density of your unknown, but we don't yet have any idea what the unknown concentraion is. But we have all of those lovely standard solutions, with known concentrations, and we know their densities!\n",
    "\n",
    "## Making a graph:"
   ]
  },
  {
   "cell_type": "code",
   "execution_count": 4,
   "metadata": {
    "scrolled": true
   },
   "outputs": [
    {
     "data": {
      "text/plain": [
       "Text(0,0.5,'other numbers (unit mcunitface)')"
      ]
     },
     "execution_count": 4,
     "metadata": {},
     "output_type": "execute_result"
    },
    {
     "data": {
      "image/png": "[encoded data removed]",
      "text/plain": [
       "<Figure size 432x288 with 1 Axes>"
      ]
     },
     "metadata": {
      "needs_background": "light"
     },
     "output_type": "display_data"
    }
   ],
   "source": [
    "import matplotlib.pyplot as plt\n",
    "\n",
    "\n",
    "# sample data, replace with your own data please!\n",
    "\n",
    "concentration = [0, 1, 2, 3, 4]\n",
    "density = [1.1,1.9,2.8,4.3,5]\n",
    "\n",
    "\n",
    "\n",
    "# put together a graph using the plot command\n",
    "# in 'plot', first comes the x axis, then the y, then 'ro' plots our points as red circles. \n",
    "fig, plot1 = plt.subplots()\n",
    "plot1.plot(concentration, density, 'ro')\n",
    "\n",
    "# Add labels on the x and y axis, always including units.\n",
    "plot1.set_xlabel(\"some numbers (unity units)\")\n",
    "plot1.set_ylabel(\"other numbers (unit mcunitface)\")\n",
    "\n",
    "\n",
    "\n",
    "#this command shows the figure in the script here. Later we will discuss how to export this plot as an image file, when needed.\n",
    "#for now though, lets just take a look!\n",
    "#hit run on this block of code!\n",
    "\n",
    "#fig.savefig(\"myfirstpythonfigure.png\")"
   ]
  },
  {
   "cell_type": "markdown",
   "metadata": {},
   "source": [
    "Now you should see a figure above with red dots making the data points, along with some very unhelful axis labels. \n",
    "\n",
    "1. Go back into the code and put your own data into the concentration and density arrays, including the correctnumber of sig. figs. for both density and concentration.\n",
    "\n",
    "2. Update the axis labels to something that is actually properly descriptive for your data\n",
    "\n",
    "3. In the plt.plot command, change 'ro' to 'bs'.\n",
    "\n",
    "4. Hit RUN again to rerun this code now that you have updated it.\n",
    "\n",
    "You should now have a plot of your real data, with useful axis labels letting you know that density is on the y axis, and concentration is on the x axis. Hopefully, your data looks fairly linear! \n",
    "\n",
    "The next thing you need to do is to export that plot so you can put it in your lab notebook! You have a few choices; you can take a screenshot and paste the image into Lab Archives, or you use Python's built in export too. Copy the following line of code into the block above, and re-run the block\n",
    "\n",
    "fig.savefig(\"myfirstpythonfigure.png\")\n",
    "\n",
    "\n",
    "A figure called \"myfirstpythonfigure\" should now be in the same folder you saved this Jupyter notebook in! You can upload it to your lab notebook as an attachment, as usual."
   ]
  },
  {
   "cell_type": "markdown",
   "metadata": {},
   "source": [
    "## Finding the equation of the line:\n",
    "\n",
    "Now we'll do something called a linear regression (we'll get into more detail on this later in the course) to figure out the slope and intercept of a straight line that seems to fit your data:"
   ]
  },
  {
   "cell_type": "code",
   "execution_count": 20,
   "metadata": {},
   "outputs": [
    {
     "name": "stdout",
     "output_type": "stream",
     "text": [
      "the equation of the line is y = 1.02x + 0.98 and its R-squared value is 0.9931506043228762\n"
     ]
    }
   ],
   "source": [
    "\n",
    "# the linear regression function in the scipy stats module returns 5 values: slope, intercept, R-squared and then two uncertainty values p and s_m\n",
    "# we'll ignore the last two for the moment, since all we really need right now is the equation of the line\n",
    "\n",
    "m, b, R2, p, s_m = stats.linregress(concentration, density)\n",
    "\n",
    "print ('the equation of the line is y = ' + str(m) + 'x + ' + str(b) + ' and its R-squared value is '+ str(R2))"
   ]
  },
  {
   "cell_type": "markdown",
   "metadata": {},
   "source": [
    "Using the equation above, calculate your unknown concentration by hand first. Then complete the code below to calculate the unknown concentration. Make sure your hand-written calculation and your python code are producing the same result!"
   ]
  },
  {
   "cell_type": "code",
   "execution_count": 22,
   "metadata": {},
   "outputs": [
    {
     "name": "stdout",
     "output_type": "stream",
     "text": [
      "the concentration of the unknown is 0.41176470588235287 M\n"
     ]
    }
   ],
   "source": [
    "#Add the density of your unknown here:\n",
    "\n",
    " unknown_NaCl = \n",
    "\n",
    "# now using m, b and unknown_density, we solve for unknown_concentration\n",
    "unknown_concentration = (unknown_NaCl - b)/m\n",
    "\n",
    "print ('the concentration of the unknown is ' + str(unknown_concentration) + ' M')\n",
    "\n",
    "#do your values match? If not, check your math!"
   ]
  },
  {
   "cell_type": "markdown",
   "metadata": {},
   "source": [
    "Record this value to the number of sig figs determined by your standard deviation and confidence intervals earlier. Don't forget to add a conclusion to your ELN page!\n",
    "\n",
    "Now you have a fully completed python program for calculaing averages, standard deviations and confidence intervals, and for using an external calibration curve to determing the concentration of an unknown.\n",
    "\n",
    "You can reuse any of this code in later labs, whenever you need to repeat any of these functions! This is the real beauty of a programming language like Python; keep copys of all of your completed Jupyter notebooks, and copy-paste anytime you want to reuse something!\n"
   ]
  },
  {
   "cell_type": "code",
   "execution_count": null,
   "metadata": {},
   "outputs": [],
   "source": []
  }
 ],
 "metadata": {
  "kernelspec": {
   "display_name": "Python 3",
   "language": "python",
   "name": "python3"
  },
  "language_info": {
   "codemirror_mode": {
    "name": "ipython",
    "version": 3
   },
   "file_extension": ".py",
   "mimetype": "text/x-python",
   "name": "python",
   "nbconvert_exporter": "python",
   "pygments_lexer": "ipython3",
   "version": "3.7.0"
  }
 },
 "nbformat": 4,
 "nbformat_minor": 2
}

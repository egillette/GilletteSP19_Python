{
 "cells": [
  {
   "cell_type": "markdown",
   "metadata": {},
   "source": [
    "# Acid Base Titration\n",
    "\n",
    "Here we're going to consider calculating the pH during the titration of a weak acid with a strong base. We'll start with values from problem 11-B in the textbook: \n",
    "We'll titrate a 50 mL solution of 0.05 M formic acid with 0.05 M KOH, and we'll calculate the pH for a number of volumes of added base.\n",
    "\n",
    "### You may want to stop here, and attempt at least some of problem 11 B by hand first (note the answers are all in the back of the book!)\n",
    "\n",
    "\n",
    "## Brainstorm a strategy\n",
    "<b>Brainstorm a strategy for your calculation here.</b> You should be able to break this calculation down into four distinct regions where you solve for pH using different strategies. Write out in words what those regions are, and try to formulate an if-then statement that will help you decide which region you are in and what pH calculation to make in that region:\n",
    "\n",
    "    Region 1:\n",
    "    \n",
    "    Region 2:\n",
    "    \n",
    "    Region 3:\n",
    "    \n",
    "    Region 4:\n",
    "\n",
    "\n",
    "Only once you have a plan for all four regions, start working on the code:\n"
   ]
  },
  {
   "cell_type": "code",
   "execution_count": 1,
   "metadata": {},
   "outputs": [
    {
     "ename": "SyntaxError",
     "evalue": "invalid syntax (<ipython-input-1-a7e5a5a4bcca>, line 15)",
     "output_type": "error",
     "traceback": [
      "\u001b[1;36m  File \u001b[1;32m\"<ipython-input-1-a7e5a5a4bcca>\"\u001b[1;36m, line \u001b[1;32m15\u001b[0m\n\u001b[1;33m    eq_vol =\u001b[0m\n\u001b[1;37m            ^\u001b[0m\n\u001b[1;31mSyntaxError\u001b[0m\u001b[1;31m:\u001b[0m invalid syntax\n"
     ]
    }
   ],
   "source": [
    "# Start with the import functions you know you need, and some constants that you know you need\n",
    "import math\n",
    "\n",
    "pKa = 3.75\n",
    "\n",
    "# Initial concentration of formic acid in M\n",
    "HA_initialC = 0.05\n",
    "\n",
    "# Concentratin of OH being added in M\n",
    "OH_initialC = 0.05\n",
    "\n",
    "# the array V-b will have all of the volumes of base you need to calculate pH for (units still mL)\n",
    "V_b = [0,10,20,30,40,45,49,49.5,50,51,52,53,54,55]\n",
    "\n",
    "# then we will make an empty array for the pH values to be entered into. DONT CHANGE THIS LINE!\n",
    "pH = []\n",
    "\n",
    "# you probably need to calculate the volume of base at the equivalence point to set up your if-then conditions:\n",
    "\n",
    "eq_vol =\n",
    "\n",
    "#add any other variables here you think you might need in multiple places in your calcuation\n",
    "\n",
    "\n",
    "\n",
    "# Just like in our standard deviation calculation, we need to step through each point in an array to make a calculation, so we\n",
    "# use a while loop. This is the only while loop you need in this problem: it will contain all of your possible if-then statements!\n",
    "\n",
    "\n",
    "\n",
    "\n",
    "count = 0\n",
    "while count < len(V_b):\n",
    "    \n",
    "# Here is the first of your possible if-then conditions, where no base has been added. Read this carefully and make sure you\n",
    "# understand how it works (both for calculating the pH and for adding the calculated pH to your empty array) \n",
    "# Add comments to explain what you see here\n",
    "\n",
    "    if V_b[count] == 0:\n",
    "        # first, convert pKa to Ka. What does ** represent in this calculation?\n",
    "        Ka = 10**-pKa\n",
    "        # Recall that the quadratic equation we get from an ice table always takes the same format: x2+Kax-KaC. \n",
    "        # First we'll define variables for a, b and c in our quadratic equation\n",
    "        # Do you always use the quadratic equation when you solve these problems? Why might we choose to do it this way now?\n",
    "        a = 1.0\n",
    "        b= Ka\n",
    "        c=-Ka*HA_initialC\n",
    "        #then, solve the quadratic equation\n",
    "        H3O_initial = (-b + math.sqrt((b**2)-(4*a*c)))/(2*a)\n",
    "        #calculate the pH. Use a pH_temp variable here so you don't overwrite any previous work saved in the pH array\n",
    "        pH_temp = -math.log10(H3O_initial)\n",
    "    \n",
    "    # then we'll add your calculated pH_temp to the end of the pH array\n",
    "        pH.append (pH_temp)\n",
    "        count = count + 1\n",
    "        \n",
    "    #now, add the next three conditions to finish all of the pH calculations\n",
    "    if V_b[count] > 0 and V_b[count]:#finish this expression!\n",
    "        \n",
    "        #now write out the math to solve for pH_temp under this condition\n",
    "        \n",
    "        #then we'll finish this condition by adding your pH value to the array, and increasing the counter\n",
    "        pH.append (pH_temp)\n",
    "        count = count + 1\n",
    "        \n",
    "    if V_b[count] == :#finish this expression\n",
    "        #now write out the math to solve for pH_temp under this condition\n",
    "        \n",
    "        #then we'll finish this condition by adding your pH value to the array, and increasing the counter\n",
    "        pH.append (pH_temp)\n",
    "        count = count + 1\n",
    "    if V_b[count] > :#finish this expression\n",
    "        #now write out the math to solve for pH_temp under this condition\n",
    "        \n",
    "        #then we'll finish this condition by adding your pH value to the array and increasing the counter\n",
    "        pH.append (pH_temp)\n",
    "        count = count + 1\n",
    "        \n",
    "# Check you work by printing out the answers! Note that the this whole block is inside the while loop, so it will only run\n",
    "# once the whole thing is finished!\n",
    "print (pH)"
   ]
  },
  {
   "cell_type": "markdown",
   "metadata": {},
   "source": [
    "Now that we have an array of pH and an array of base, it would be nice to plot the curve and make sure it looks like a normal acid base titration curve!"
   ]
  },
  {
   "cell_type": "code",
   "execution_count": null,
   "metadata": {},
   "outputs": [],
   "source": [
    "# importing the plotting package as plt just gives us a shorter name to use when we call the plotting functions\n",
    "import matplotlib.pyplot as plt\n",
    "\n",
    "# x values go first, then y values\n",
    "plt.plot(V_b,pH)\n",
    "\n",
    "# add axis labels (edit to include any missing information)\n",
    "plt.xlabel (\"volume KOH added\")\n",
    "plt.ylabel (\"pH\")\n"
   ]
  },
  {
   "cell_type": "markdown",
   "metadata": {},
   "source": [
    "Once you are finished, you should have a correct titration curve here that matches your data from 11-B.\n",
    "Now, look up a different weak acid, and change the pKa. Note in the comments which weak acid you are using!\n",
    "Make some observations here about what changed and what did not change when you changed the pKa:\n",
    "\n",
    "\n",
    "\n",
    "\n",
    "\n",
    "Upload this file as part of your HW # 3 assignment!\n",
    "\n",
    "\n",
    "\n",
    "\n"
   ]
  },
  {
   "cell_type": "code",
   "execution_count": null,
   "metadata": {},
   "outputs": [],
   "source": []
  }
 ],
 "metadata": {
  "kernelspec": {
   "display_name": "Python 3",
   "language": "python",
   "name": "python3"
  },
  "language_info": {
   "codemirror_mode": {
    "name": "ipython",
    "version": 3
   },
   "file_extension": ".py",
   "mimetype": "text/x-python",
   "name": "python",
   "nbconvert_exporter": "python",
   "pygments_lexer": "ipython3",
   "version": "3.7.0"
  }
 },
 "nbformat": 4,
 "nbformat_minor": 2
}

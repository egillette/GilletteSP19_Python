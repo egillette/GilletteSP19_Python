{
 "cells": [
  {
   "cell_type": "markdown",
   "metadata": {},
   "source": [
    "# Error Propagation\n",
    "\n",
    "We know that the error on a measurement tool is typically given as it's tolerance, and the error on several repeated measurements can be given as a standard deviation, or a condfidence interval. But what do we do when a final answer in a calculation requires mathematical processing of multiple numbers, with multiple different types of error involved?\n",
    "\n",
    "Titrations are an excellent example of this challenge. If we hope to determine the concentration of an unknown by titration, what steps must we take? Imagine the titrations you did in experiment # 3 to determine the concentration of an unknown solution of NaOH using Tris. How many different meaured values had to be considered as part of that calculation?\n",
    "\n",
    "\n",
    "## Addition and Subtraction\n",
    "\n",
    "First let's just consider what you needed to get the final volume dispensed by the buret:\n",
    "\n",
    "1. Initial volume on the buret (+/- tolerance of the buret)\n",
    "2. Final volume on the buret (+/- tolerance of the buret)\n",
    "\n",
    "To get the total volume, you probably just subtracted:  $ V_{total} = V_{final} - V_{initial} $ so to propagate the error, we use the rules for addition and subtraction\n",
    "\n",
    "$$ error_{Vtotal} = \\sqrt { error_{Vfinal}^{2} + error_{Vinitial}^{2}} $$\n",
    "\n",
    "\n",
    "Be careful to note that this equation is absolute error, so it has the units of the measured value! This means if you convert the measured values into a different unit, be sure to convert the absolute error as well. For example, the tolerance on a 10 mL buret is +/- 0.02 mL or the tolerance on a 0.010 L buret is +/- 0.00002 L. Note however, that in relative terms, both of these tolerances are +/- 0.2 % if expressed as relative errors.\n",
    "\n",
    "Luckily, this is very simple math to do in Python, as long as we keep track of our units! Use comments to note units anywhere you're worried about forgetting them\n",
    "\n",
    "\n"
   ]
  },
  {
   "cell_type": "code",
   "execution_count": null,
   "metadata": {},
   "outputs": [],
   "source": [
    "import math\n",
    "\n",
    "# example volume subtraction\n",
    "\n",
    "V_initial = 0.04 #mL\n",
    "V_final = 8.15 #mL\n",
    "V_total = V_final - V_initial #mL\n",
    "\n",
    "# error for addition and subtraction\n",
    "# tolerance on a 10 mL buret in mL\n",
    "\n",
    "e_buret = 0.02 #mL\n",
    "\n",
    "e_final = math.sqrt((e_buret**2)+(e_buret**2)) #mL\n",
    "\n",
    "print (\"the total volume was \" + str(V_total) + \" mL +/-\" + str(e_final) + \" mL\")\n",
    "\n"
   ]
  },
  {
   "cell_type": "markdown",
   "metadata": {},
   "source": [
    "There are a few things you should consider about these values:\n",
    "\n",
    "1. What digit should you round the total volume to, based on the uncertainty?\n",
    "\n",
    "\n",
    "\n",
    "2. What digit would you have rounded that volume to, using the old sig. fig. rules you learned in gen chem?\n",
    "\n",
    "\n",
    "\n",
    "<i> This type of error propagation using instrument tolerance is essentially where those old sig. fig. rules came from! </i> \n",
    "\n",
    "3. Did you have to include the measured values anywhere in this calculation? In other words, would the absolute error be different for different trials of your titration? So why might we have chosen to use 10 mL burets instead of 50 mL burets for this titration?\n",
    "\n",
    "4. Look back at your standard deviations for each trial. Do they suggest more or less error than is calculated just considering the tolerance? What might that mean?\n",
    "\n",
    "\n",
    "\n"
   ]
  },
  {
   "cell_type": "markdown",
   "metadata": {},
   "source": [
    "## Multiplication and Division\n",
    "\n",
    "The next step in your titration calculation is to convert that volume of unknown concentration NaOH into a concentration, using the mass of tris, the formula weight of tris and the total volume. Expressed in it's simplest format, it would look like this:\n",
    "\n",
    "$$ C_{NaOH} = mass_{tris} \\div {MM_{tris}} \\div {volume_{total}} $$\n",
    "\n",
    "Note that if you expect this to come out in standard concentration units (mol/L) , you must convert that total volume to L\n",
    "\n",
    "To propogate the error in this step, we must use the rules for multiplication and division. Luckily, since it's the same rule, we can do it all in one step. But all of the absolute errors must first be converted to relative errors:\n",
    "\n",
    "\n",
    "\n",
    "$$ \\%error_{C} = \\sqrt{\\left({\\frac {error_{mass}}{mass_{tris}}}\\right)^{2} + \\left({\\frac {error_{MM}}{MM_{tris}}}\\right)^{2}+ \\left({\\frac {error_{volume}}{volume}}\\right)^{2}}$$\n",
    "\n",
    "\n",
    "We know the error in the mass is just the tolerance of the balance (+/- 0.0001 g for our balances) and you've already calculated the error in the measured volume. So we're left with one problem: What is the uncertainty in the molar mass of trisHCl ($C_{4}H_{11}NO_{3})$?\n",
    "\n",
    "\n",
    "Think about how you would have calculated the molar mass on a gen. chem. exam, with nothing but a periodic table. How would you propogate error for that step? "
   ]
  },
  {
   "cell_type": "code",
   "execution_count": null,
   "metadata": {},
   "outputs": [],
   "source": [
    "# error prop for molar masses\n",
    "\n",
    "C_mass = 12.01 \n",
    "C_error = 0.0004\n",
    "\n",
    "H_mass = 1.001\n",
    "H_error = 0.000014\n",
    "\n",
    "N_mass = 14.0067\n",
    "N_error = 0.0004\n",
    "\n",
    "O_mass = 15.997\n",
    "O_error = 0.0004\n",
    "\n",
    "\n",
    "MM_tris = (C_mass*4)+ (H_mass*11)+(N_mass*1)+(O_mass*3) #g/mol\n",
    "e_MM = math.sqrt((4*C_error)**2 + (11*H_error)**2 + (N_error*1)**2 + (O_error*3)**2)  #g/mol\n",
    "\n",
    "print(\"the molar mass of tris is \" + str(MM_tris) + \" g/mol +/-\" + str(e_MM) + \" g/mol\")\n",
    "\n",
    "\n",
    "\n",
    "#error prop for multiplication\n",
    "\n",
    "# measured mass and error in the balance\n",
    "\n",
    "mass_tris = 0.0987 #g\n",
    "e_balance = 0.0001 #g\n",
    "\n",
    "# relative error in the mass of tris\n",
    "re_mass = e_balance/mass_tris\n",
    "\n",
    "\n",
    "# calculate the concentration of NaOH\n",
    "\n",
    "C_NaOH = (mass_tris/MM_tris)/(V_total/1000) #mol/L, divide by 1000 to get L instead of mL\n",
    "\n",
    "# calculate the relative error in the concentration (remember this comes out as a fraction; multipied by 100 it comes out as a percent)\n",
    "re_conc = math.sqrt( ((e_balance/mass_tris)**2) + ((e_MM/MM_tris)**2) + ((e_final/V_total)**2))*100\n",
    "\n",
    "# convert that error back to an absolte error\n",
    "\n",
    "error_NaOH = re_conc*C_NaOH # mol/L\n",
    "\n",
    "print (str(C_NaOH) + \" M +/- \" + str(re_conc) + \"%\")\n",
    "print (str(C_NaOH) + \" M +/- \" + str(error_NaOH) + \" M\")"
   ]
  },
  {
   "cell_type": "markdown",
   "metadata": {},
   "source": [
    "## Thinking strategically about error\n",
    "\n",
    "This process just produced a final error value for your calculated concentration, which is an improvement over an estimate based solely off of the standard deviation of your trials. This alone makes it worthwhile, but it's not the only reason its worth working through complete error propogation in this way.\n",
    "\n",
    "You can also use error propogation to think strategically about how best to reduce error in this experiment. Let's take a look at the relative error of each contribution to the total overall error:"
   ]
  },
  {
   "cell_type": "code",
   "execution_count": null,
   "metadata": {},
   "outputs": [],
   "source": [
    "re_mass = (e_balance/mass_tris)*100\n",
    "re_MM = e_MM/MM_tris*100\n",
    "re_vol = e_final/V_total*100\n",
    "\n",
    "print (\"the mass measurement contributed an error of \" + str(round(re_mass,4)) + \" %\")\n",
    "\n",
    "print (\"the molar mass contributed an error of \" + str(round(re_MM,4)) + \" %\")\n",
    "\n",
    "print (\"the volume measurement contributed an error of \" + str(round(re_vol,4)) + \" %\")\n",
    "\n",
    "\n"
   ]
  },
  {
   "cell_type": "markdown",
   "metadata": {},
   "source": [
    "If you were applying for a small grant to improve this procedure, would you propose buying a better balance, buying better burets or buying a new primary standard?  If you could afford two of the three, which two would you propose? Be sure you can justify your choices using the data.\n"
   ]
  },
  {
   "cell_type": "markdown",
   "metadata": {},
   "source": []
  }
 ],
 "metadata": {
  "kernelspec": {
   "display_name": "Python 3",
   "language": "python",
   "name": "python3"
  },
  "language_info": {
   "codemirror_mode": {
    "name": "ipython",
    "version": 3
   },
   "file_extension": ".py",
   "mimetype": "text/x-python",
   "name": "python",
   "nbconvert_exporter": "python",
   "pygments_lexer": "ipython3",
   "version": "3.7.0"
  }
 },
 "nbformat": 4,
 "nbformat_minor": 2
}
